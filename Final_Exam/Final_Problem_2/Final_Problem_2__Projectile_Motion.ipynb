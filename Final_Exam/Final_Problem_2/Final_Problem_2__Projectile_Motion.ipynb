{
 "cells": [
  {
   "cell_type": "code",
   "execution_count": 1,
   "metadata": {},
   "outputs": [],
   "source": [
    "### COMPUTATIONAL PHYSICS\n",
    "### Final, Problem 2B & 2C: Projectile Motion with Air Resistance\n",
    "\n",
    "# Many elementary mechanics problems deal with the physics of objects moving through the \n",
    "# air, but they almost always ignore friction and air resistance. \n",
    "\n",
    "# Consider a spherical cannon ball shot through air. The air resistance on a moving sphere\n",
    "# is a force in the opposite direction with the magnitude:\n",
    "\n",
    "# F = (1/2)π*R^2*ρ*C*v^2\n",
    "\n",
    "# where R is the sphere’s radius , ρ the density of air, v is the velocity, and C is the \n",
    "# coefficient of drag (dependent of the shape of the object).\n",
    "\n",
    "### Name:  Carson Huey-You\n"
   ]
  },
  {
   "cell_type": "code",
   "execution_count": 2,
   "metadata": {},
   "outputs": [],
   "source": [
    "### 1. IMPORT PACKAGES\n",
    "\n",
    "import math as math\n",
    "import numpy as np\n",
    "from matplotlib import pyplot as plt\n",
    "from scipy.optimize import curve_fit\n"
   ]
  },
  {
   "cell_type": "code",
   "execution_count": null,
   "metadata": {},
   "outputs": [],
   "source": []
  },
  {
   "cell_type": "code",
   "execution_count": 3,
   "metadata": {},
   "outputs": [],
   "source": [
    "### 2. PARAMETERS & INITIAL CONDITIONS\n",
    "\n",
    "## AIR & GROUND PARAMETERS\n",
    "\n",
    "air_density = 1.19#kg/m3\n",
    "drag_coeff = 0.47\n",
    "\n",
    "g = 9.81#m/s2\n",
    "ground = 0.#m\n",
    "\n",
    "\n",
    "## CANNONBALL PARAMETERS\n",
    "\n",
    "# List of Densities:\n",
    "# ρ_Pb = 11300 kg/m3\n",
    "# ρ_W = 19300 kg/m3\n",
    "# ρ_Ni = 8900 kg/m3\n",
    "\n",
    "selected_element = \"Pb\"\n",
    "density = 11300#kg/m3  ->  11.3 g/cm3 \n",
    "radius  = 0.06#m       ->  6cm\n",
    "\n",
    "volume = (4/3)*np.pi*(radius**3)\n",
    "mass = density*volume\n",
    "\n",
    "\n",
    "## CANNON PARAMETERS\n",
    "\n",
    "Y_init = 12#m\n",
    "V_init = 110#m/s\n",
    "Θ_init = np.radians(38)\n",
    "\n",
    "Vx_init = V_init * np.cos(Θ_init)\n",
    "Vy_init = V_init * np.sin(Θ_init)\n",
    "\n",
    "\n",
    "## FOR COMPUTATION\n",
    "\n",
    "K = (1/2)*np.pi*(radius**2)*density*drag_coeff #such that F = Kv^2\n",
    "\n"
   ]
  },
  {
   "cell_type": "code",
   "execution_count": null,
   "metadata": {},
   "outputs": [],
   "source": []
  },
  {
   "cell_type": "code",
   "execution_count": 4,
   "metadata": {},
   "outputs": [],
   "source": [
    "### 3A. DEFINE FUNCTIONS\n",
    "\n",
    "# Define functions for dx/dt and dy/dt.\n",
    "\n",
    "def dx_dt(Vx):\n",
    "    return Vx\n",
    "\n",
    "def dy_dt(Vy):\n",
    "    return Vy\n"
   ]
  },
  {
   "cell_type": "code",
   "execution_count": 5,
   "metadata": {},
   "outputs": [],
   "source": [
    "### 3B. DEFINE FUNCTIONS\n",
    "\n",
    "# Define functions for dVx/dt and dVy/dt.\n",
    "\n",
    "def dVx_dt(Vx, Vy):\n",
    "    \n",
    "    return -(K/mass)*Vx*np.sqrt((Vx**2) + (Vy**2))\n",
    "\n",
    "def dVy_dt(Vx, Vy):\n",
    "    \n",
    "    return -g -(K/mass)*Vy*np.sqrt((Vx**2) + (Vy**2))\n",
    "\n"
   ]
  },
  {
   "cell_type": "code",
   "execution_count": null,
   "metadata": {},
   "outputs": [],
   "source": []
  },
  {
   "cell_type": "code",
   "execution_count": 6,
   "metadata": {},
   "outputs": [],
   "source": [
    "### 3C. DEFINE INTEGRATORS\n",
    "\n",
    "## RK4 Integrator\n",
    "\n",
    "def RK4(h, Func, P):\n",
    "    \n",
    "    k1 = h*Func(P)\n",
    "    k2 = h*Func(P + 0.5*k1)\n",
    "    k3 = h*Func(P + 0.5*k2)\n",
    "    k4 = h*Func(P + k3)\n",
    "    \n",
    "    return (1/6)*(k1 + 2*k2 + 2*k3 + k4) #= Func(t + h)\n"
   ]
  },
  {
   "cell_type": "code",
   "execution_count": 7,
   "metadata": {},
   "outputs": [],
   "source": [
    "### 3C. DEFINE INTEGRATORS\n",
    "\n",
    "## RK4 Integrators for Two Variables\n",
    "\n",
    "def RK_1(h, Func, P, Q):\n",
    "    \n",
    "    k1 = h*Func(P, Q)\n",
    "    k2 = h*Func(P + 0.5*k1, Q)\n",
    "    k3 = h*Func(P + 0.5*k2, Q)\n",
    "    k4 = h*Func(P + k3, Q)\n",
    "    \n",
    "    return (1/6)*(k1 + 2*k2 + 2*k3 + k4) #= Func(t + h)\n",
    "\n",
    "\n",
    "def RK_2(h, Func, P, Q):\n",
    "    \n",
    "    k1 = h*Func(P, Q)\n",
    "    k2 = h*Func(P, Q + 0.5*k1)\n",
    "    k3 = h*Func(P, Q + 0.5*k2)\n",
    "    k4 = h*Func(P, Q + k3)\n",
    "    \n",
    "    return (1/6)*(k1 + 2*k2 + 2*k3 + k4) #= Func(t + h)\n"
   ]
  },
  {
   "cell_type": "code",
   "execution_count": null,
   "metadata": {},
   "outputs": [],
   "source": []
  },
  {
   "cell_type": "code",
   "execution_count": 8,
   "metadata": {},
   "outputs": [],
   "source": [
    "### 3D. DEFINE FUNCTION TO GET ARRAYS\n",
    "\n",
    "def get_r_arr(t, pos_init, vel_init):\n",
    "    \n",
    "    #            X     Y\n",
    "    #pos_arr = [[0.,   12.]\n",
    "    #           [..,   ..]]\n",
    "    \n",
    "    #            Vx    Vy\n",
    "    #vel_arr = [[0.,   12.]\n",
    "    #           [..,   ..]]\n",
    "    \n",
    "    pos_arr = np.zeros( shape = (len(t), 2) )\n",
    "    vel_arr = np.zeros( shape = (len(t), 2) )\n",
    "    \n",
    "    pos_arr[0] = pos_init\n",
    "    vel_arr[0] = vel_init\n",
    "    \n",
    "    step = (max(t) - min(t))/len(t)\n",
    "    print(f\"Used a step size of {step}, from {min(t)} to {max(t)}.\")\n",
    "    \n",
    "    for j in range(0, len(t)-1):\n",
    "        #r_arr[j+1][0] = r_arr[j][0] + Euler(h, dtheta_dt(r_arr[j][1]))\n",
    "        #r_arr[j+1][1] = r_arr[j][1] + Euler(h,     dV_dt(r_arr[j][0]))\n",
    "        \n",
    "        pos_arr[j+1][0] = pos_arr[j][0] + RK4(step, dx_dt, vel_arr[j][0])\n",
    "        pos_arr[j+1][1] = pos_arr[j][1] + RK4(step, dy_dt, vel_arr[j][1])\n",
    "        \n",
    "        vel_arr[j+1][0] = vel_arr[j][0] + RK_1(step, dVx_dt, vel_arr[j][0], vel_arr[j][1])\n",
    "        vel_arr[j+1][1] = vel_arr[j][1] + RK_2(step, dVy_dt, vel_arr[j][0], vel_arr[j][1])\n",
    "        \n",
    "        if pos_arr[j+1][0] == 0:\n",
    "            break\n",
    "        \n",
    "        #print(r_arr[j])\n",
    "    \n",
    "    #print(t, r_arr)\n",
    "    return pos_arr, vel_arr\n",
    "    "
   ]
  },
  {
   "cell_type": "code",
   "execution_count": null,
   "metadata": {},
   "outputs": [],
   "source": []
  },
  {
   "cell_type": "code",
   "execution_count": 9,
   "metadata": {},
   "outputs": [
    {
     "name": "stdout",
     "output_type": "stream",
     "text": [
      "Used a step size of 0.0003, from 0.0 to 15.0.\n"
     ]
    },
    {
     "data": {
      "image/png": "[encoded data removed]",
      "text/plain": [
       "<Figure size 1440x720 with 1 Axes>"
      ]
     },
     "metadata": {
      "needs_background": "light"
     },
     "output_type": "display_data"
    }
   ],
   "source": [
    "### 4. PLOTTING TRAJECTORY\n",
    "\n",
    "fig = plt.figure(figsize=(20,10))\n",
    "\n",
    "# Initial Conditions\n",
    "pos_init = np.array([0., Y_init])\n",
    "vel_init = np.array([Vx_init, Vy_init])\n",
    "\n",
    "time = np.linspace(0, 15, 50000)\n",
    "\n",
    "pos, vel = get_r_arr(time, pos_init=pos_init, vel_init=vel_init)\n",
    "\n",
    "mask = (pos[:,1] >= ground)\n",
    "\n",
    "plt.title(f\"Projectile Trajectory | ({selected_element}) Ball, Fired from Elevation of {pos_init[1]}m\", size=15)\n",
    "\n",
    "plt.plot(pos[:,0][mask], pos[:,1][mask], color='blue', label=f\"Range: {max(pos[:,0][mask])}\")\n",
    "plt.legend(loc='lower left', prop={'size': 12})\n",
    "\n",
    "plt.show()\n"
   ]
  },
  {
   "cell_type": "code",
   "execution_count": 10,
   "metadata": {},
   "outputs": [
    {
     "name": "stdout",
     "output_type": "stream",
     "text": [
      "Used a step size of 0.0003, from 0.0 to 15.0.\n"
     ]
    },
    {
     "data": {
      "image/png": "[encoded data removed]",
      "text/plain": [
       "<Figure size 1440x720 with 1 Axes>"
      ]
     },
     "metadata": {
      "needs_background": "light"
     },
     "output_type": "display_data"
    }
   ],
   "source": [
    "### 4. PLOTTING TRAJECTORY\n",
    "\n",
    "fig = plt.figure(figsize=(20,10))\n",
    "\n",
    "# Initial Conditions\n",
    "pos_init = np.array([0., 0.])\n",
    "vel_init = np.array([Vx_init, Vy_init])\n",
    "\n",
    "time = np.linspace(0, 15, 50000)\n",
    "\n",
    "pos, vel = get_r_arr(time, pos_init=pos_init, vel_init=vel_init)\n",
    "\n",
    "mask = (pos[:,1] >= ground)\n",
    "\n",
    "plt.title(f\"Projectile Trajectory | ({selected_element}) Ball, Fired from Elevation of {pos_init[1]}m\", size=15)\n",
    "\n",
    "plt.plot(pos[:,0][mask], pos[:,1][mask], color='blue', label=f\"Range: {max(pos[:,0][mask])}\")\n",
    "plt.legend(loc='lower left', prop={'size': 12})\n",
    "\n",
    "plt.show()\n",
    "\n"
   ]
  },
  {
   "cell_type": "code",
   "execution_count": null,
   "metadata": {},
   "outputs": [],
   "source": []
  },
  {
   "cell_type": "code",
   "execution_count": null,
   "metadata": {},
   "outputs": [],
   "source": [
    "### 5. ANSWER FOR PART 2C.\n",
    "\n",
    "# One can show that for a spherical object, the given equation reduces\n",
    "# such that mass, volume and density all cancel out.  The constant in\n",
    "# the acceleration equations only depend on the radius of the \n",
    "# cannonball fired.\n",
    "\n"
   ]
  },
  {
   "cell_type": "code",
   "execution_count": null,
   "metadata": {},
   "outputs": [],
   "source": []
  }
 ],
 "metadata": {
  "kernelspec": {
   "display_name": "Python 3",
   "language": "python",
   "name": "python3"
  },
  "language_info": {
   "codemirror_mode": {
    "name": "ipython",
    "version": 3
   },
   "file_extension": ".py",
   "mimetype": "text/x-python",
   "name": "python",
   "nbconvert_exporter": "python",
   "pygments_lexer": "ipython3",
   "version": "3.6.6"
  }
 },
 "nbformat": 4,
 "nbformat_minor": 2
}
