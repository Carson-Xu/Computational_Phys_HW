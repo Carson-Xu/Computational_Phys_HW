{
 "cells": [
  {
   "cell_type": "code",
   "execution_count": null,
   "metadata": {},
   "outputs": [],
   "source": [
    "### COMPUTATIONAL PHYSICS\n",
    "### Homework 1, Problem 1: Projectiles\n",
    "\n",
    "# WWrite a program which calculates the distance a projectile of a \n",
    "# mass, m will travel when shot out of a cannon at an angle θ from the \n",
    "# ground with an initial speed v. Plot the dependence of the distance \n",
    "# on m, θ and v for the following cases. Your values of m should be \n",
    "# between 0.1 and 10 kg, θ from 0 to 90 degrees and v should span at least \n",
    "# two orders of magnitude, however the exact values are yours to determine.\n",
    "# [Earth, Mars, Titan, Ceres]\n",
    "\n",
    "### Name:  Carson Huey-You"
   ]
  },
  {
   "cell_type": "code",
   "execution_count": null,
   "metadata": {},
   "outputs": [],
   "source": [
    "# Import Packages\n",
    "\n",
    "import numpy as np\n",
    "from matplotlib import pyplot as plt"
   ]
  },
  {
   "cell_type": "code",
   "execution_count": null,
   "metadata": {},
   "outputs": [],
   "source": [
    "# Final Distance\n",
    "\n",
    "def final_distance(init_vel, theta, grav_cnst):\n",
    "    dist = ((init_vel**2)/(grav_cnst)) * (np.sin(2*theta))\n",
    "    return dist\n",
    "    #Note that there is no mass-dependance\n"
   ]
  },
  {
   "cell_type": "code",
   "execution_count": null,
   "metadata": {},
   "outputs": [],
   "source": [
    "#mass_value = 5\n",
    "mass_array = np.linspace(0, 10, 300)\n",
    "\n",
    "angle_value = np.pi/4\n",
    "angle_array = np.linspace(0, np.pi/2, 100)\n",
    "\n",
    "veloc_value = 5\n",
    "veloc_array = np.linspace(0, 300, 3001)\n",
    "\n",
    "G_cnst = 6.674e-11\n",
    "\n",
    "g_Earth = 9.81 #= GM/r^2\n",
    "g_Mars = 3.77\n",
    "g_Titan = (G_cnst*1.3452e23)/(2574.73e3)**2\n",
    "g_Ceres = (G_cnst*8.985e20)/(473e3)**2"
   ]
  },
  {
   "cell_type": "code",
   "execution_count": null,
   "metadata": {},
   "outputs": [],
   "source": [
    "# Define blank arrays of the correct size for later.\n",
    "\n",
    "dist_angle_Earth = np.zeros_like(angle_array)\n",
    "dist_veloc_Earth = np.zeros_like(veloc_array)\n",
    "dist_mass_Earth = np.zeros_like(mass_array)\n",
    "\n",
    "dist_angle_Mars = np.zeros_like(angle_array)\n",
    "dist_veloc_Mars = np.zeros_like(veloc_array)\n",
    "dist_mass_Mars = np.zeros_like(mass_array)\n",
    "\n",
    "dist_angle_Titan = np.zeros_like(angle_array)\n",
    "dist_veloc_Titan = np.zeros_like(veloc_array)\n",
    "dist_mass_Titan = np.zeros_like(mass_array)\n",
    "\n",
    "dist_angle_Ceres = np.zeros_like(angle_array)\n",
    "dist_veloc_Ceres = np.zeros_like(veloc_array)\n",
    "dist_mass_Ceres = np.zeros_like(mass_array)\n",
    "\n"
   ]
  },
  {
   "cell_type": "code",
   "execution_count": null,
   "metadata": {},
   "outputs": [],
   "source": [
    "# Calculate each element of each array\n",
    "\n",
    "for i in range(0, len(mass_array)):\n",
    "    dist_mass_Earth[i] = final_distance(veloc_value, angle_value, g_Earth)\n",
    "    dist_mass_Mars[i] = final_distance(veloc_value, angle_value, g_Mars)\n",
    "    dist_mass_Titan[i] = final_distance(veloc_value, angle_value, g_Titan)\n",
    "    dist_mass_Ceres[i] = final_distance(veloc_value, angle_value, g_Ceres)\n",
    "\n",
    "    \n",
    "for i in range(0, len(angle_array)):\n",
    "    dist_angle_Earth[i] = final_distance(veloc_value, angle_array[i], g_Earth)\n",
    "    dist_angle_Mars[i] = final_distance(veloc_value, angle_array[i], g_Mars)\n",
    "    dist_angle_Titan[i] = final_distance(veloc_value, angle_array[i], g_Titan)\n",
    "    dist_angle_Ceres[i] = final_distance(veloc_value, angle_array[i], g_Ceres)\n",
    "    \n",
    "    \n",
    "for i in range(0, len(veloc_array)):\n",
    "    dist_veloc_Earth[i] = final_distance(veloc_array[i], angle_value, g_Earth)\n",
    "    dist_veloc_Mars[i] = final_distance(veloc_array[i], angle_value, g_Mars)\n",
    "    dist_veloc_Titan[i] = final_distance(veloc_array[i], angle_value, g_Titan)\n",
    "    dist_veloc_Ceres[i] = final_distance(veloc_array[i], angle_value, g_Ceres)\n",
    "    "
   ]
  },
  {
   "cell_type": "code",
   "execution_count": null,
   "metadata": {},
   "outputs": [],
   "source": []
  },
  {
   "cell_type": "code",
   "execution_count": null,
   "metadata": {},
   "outputs": [],
   "source": [
    "## Angle Plot\n",
    "\n",
    "fig = plt.figure(figsize=(15,8))\n",
    "fig.subplots_adjust(hspace=0.1, wspace=0.1)\n",
    "\n",
    "# Define strings for Axes and Titles\n",
    "\n",
    "plot_title = 'Projectile Motion: Different Angles, Velocity = ' + str(veloc_value)\n",
    "x_label = \"Angles ( \" + str(angle_array[0]) + \" to \" + str(angle_array[-1]/np.pi) + \"$\\pi$ )\"\n",
    "\n",
    "ax = fig.add_subplot(1, 1, 1)\n",
    "\n",
    "plt.title(plot_title,size=15)\n",
    "\n",
    "plt.plot(angle_array, dist_angle_Earth, c='green', label='Earth', linestyle='--')\n",
    "plt.plot(angle_array, dist_angle_Mars, c='red', label='Mars', linestyle='--')\n",
    "plt.plot(angle_array, dist_angle_Titan, c='blue', label='Titan', linestyle='--')\n",
    "plt.plot(angle_array, dist_angle_Ceres, c='black', label='Ceres', linestyle='--')\n",
    "\n",
    "plt.legend()\n",
    "\n",
    "ax.set_xticks(np.linspace(angle_array[0], angle_array[-1], 9))\n",
    "ax.set_xlabel(x_label, size=13)\n",
    "ax.set_ylabel(\"Horizontal Distance\",size=13)\n",
    "\n",
    "plt.show()\n",
    "\n"
   ]
  },
  {
   "cell_type": "code",
   "execution_count": null,
   "metadata": {},
   "outputs": [],
   "source": []
  },
  {
   "cell_type": "code",
   "execution_count": null,
   "metadata": {},
   "outputs": [],
   "source": [
    "## Velocity Plot\n",
    "\n",
    "fig = plt.figure(figsize=(15,8))\n",
    "fig.subplots_adjust(hspace=0.1, wspace=0.1)\n",
    "\n",
    "# Define strings for Axes and Titles\n",
    "\n",
    "plot_title = 'Projectile Motion: Different Velocities, Angle = ' + str(angle_value/np.pi) + '$\\pi$'\n",
    "x_label = \"Velocity ( \" + str(veloc_array[0]) + \" to \" + str(veloc_array[-1]) + \" )\"\n",
    "\n",
    "ax = fig.add_subplot(1, 1, 1)\n",
    "\n",
    "plt.title(plot_title,size=15)\n",
    "\n",
    "plt.plot(veloc_array, dist_veloc_Earth, c='green', label='Earth', linestyle='--')\n",
    "plt.plot(veloc_array, dist_veloc_Mars, c='red', label='Mars', linestyle='--')\n",
    "plt.plot(veloc_array, dist_veloc_Titan, c='blue', label='Titan', linestyle='--')\n",
    "plt.plot(veloc_array, dist_veloc_Ceres, c='black', label='Ceres', linestyle='--')\n",
    "\n",
    "plt.legend()\n",
    "\n",
    "ax.set_xticks(np.linspace(veloc_array[0], veloc_array[-1], 11))\n",
    "ax.set_xlabel(x_label ,size=13)\n",
    "ax.set_ylabel(\"Horizontal Distance\",size=13)\n",
    "\n",
    "\n",
    "plt.show()\n",
    "\n",
    "\n"
   ]
  },
  {
   "cell_type": "code",
   "execution_count": null,
   "metadata": {},
   "outputs": [],
   "source": []
  },
  {
   "cell_type": "code",
   "execution_count": null,
   "metadata": {},
   "outputs": [],
   "source": [
    "## Mass Plot (No dependance so constant, horizontal lines)\n",
    "\n",
    "fig = plt.figure(figsize=(15,8))\n",
    "fig.subplots_adjust(hspace=0.1, wspace=0.1)\n",
    "\n",
    "\n",
    "# Define strings for Axes and Titles\n",
    "plot_title = 'Projectile Motion: Different Masses, Angle = ' + str(angle_value/np.pi) + '$\\pi$ ; Velocity = ' + str(veloc_value)\n",
    "x_label = \"Masses ( \" + str(mass_array[0]) + \" to \" + str(mass_array[-1]) + \" )\"\n",
    "\n",
    "ax = fig.add_subplot(1, 1, 1)\n",
    "\n",
    "plt.title(plot_title,size=15)\n",
    "\n",
    "plt.plot(mass_array, dist_mass_Earth, c='green', label='Earth', linestyle='--')\n",
    "plt.plot(mass_array, dist_mass_Mars, c='red', label='Mars', linestyle='--')\n",
    "plt.plot(mass_array, dist_mass_Titan, c='blue', label='Titan', linestyle='--')\n",
    "plt.plot(mass_array, dist_mass_Ceres, c='black', label='Ceres', linestyle='--')\n",
    "\n",
    "plt.legend()\n",
    "\n",
    "ax.set_xlabel(x_label ,size=13)\n",
    "ax.set_ylabel(\"Horizontal Distance\",size=13)\n",
    "\n",
    "plt.show()\n",
    "\n",
    "\n",
    "\n"
   ]
  },
  {
   "cell_type": "code",
   "execution_count": null,
   "metadata": {},
   "outputs": [],
   "source": []
  }
 ],
 "metadata": {
  "kernelspec": {
   "display_name": "Python 3",
   "language": "python",
   "name": "python3"
  },
  "language_info": {
   "codemirror_mode": {
    "name": "ipython",
    "version": 3
   },
   "file_extension": ".py",
   "mimetype": "text/x-python",
   "name": "python",
   "nbconvert_exporter": "python",
   "pygments_lexer": "ipython3",
   "version": "3.6.6"
  }
 },
 "nbformat": 4,
 "nbformat_minor": 2
}
