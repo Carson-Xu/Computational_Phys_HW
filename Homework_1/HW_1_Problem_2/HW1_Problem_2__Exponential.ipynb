{
 "cells": [
  {
   "cell_type": "code",
   "execution_count": null,
   "metadata": {},
   "outputs": [],
   "source": [
    "### COMPUTATIONAL PHYSICS\n",
    "### Homework 1, Problem 2: Exponentials\n",
    "\n",
    "# Write a program which calculates e−x using the three algorithms \n",
    "# giving in lectures on 29 January 2019. Plot e^−x for each algorithm \n",
    "# and using numpy as well as the difference between each algorithm \n",
    "# and the numpy values as a function of x. Discuss the dependency \n",
    "# of your answer on your choice of nmax .\n",
    "\n",
    "### Name:  Carson Huey-You"
   ]
  },
  {
   "cell_type": "code",
   "execution_count": null,
   "metadata": {},
   "outputs": [],
   "source": [
    "### Part A: Programming"
   ]
  },
  {
   "cell_type": "code",
   "execution_count": null,
   "metadata": {},
   "outputs": [],
   "source": [
    "# Import Packages\n",
    "\n",
    "import numpy as np\n",
    "from matplotlib import pyplot as plt\n",
    "from scipy.special import factorial\n"
   ]
  },
  {
   "cell_type": "code",
   "execution_count": null,
   "metadata": {},
   "outputs": [],
   "source": [
    "# Define \"Simple Exponential\"\n",
    "\n",
    "def simple_exp(x, iter_num):\n",
    "    total = 0\n",
    "    \n",
    "    for n in range (0, iter_num):\n",
    "        iter = ((-x)**n)/(factorial(n))\n",
    "        total += iter\n",
    "        \n",
    "    return total\n",
    "    \n",
    "    "
   ]
  },
  {
   "cell_type": "code",
   "execution_count": null,
   "metadata": {},
   "outputs": [],
   "source": [
    "# Define \"Recursive Exponential\"\n",
    "\n",
    "def recursive_exp(x, iter_num):\n",
    "    total = 1 #(s_0)\n",
    "    s = 1\n",
    "    \n",
    "    for n in range (1, iter_num):\n",
    "        s = -s*(x/n)\n",
    "        total += s\n",
    "        \n",
    "    return total\n",
    "        \n",
    "    "
   ]
  },
  {
   "cell_type": "code",
   "execution_count": null,
   "metadata": {},
   "outputs": [],
   "source": [
    "# Define \"Inverse Exponential\"\n",
    "\n",
    "def inverse_exp(x, iter_num):\n",
    "    total = 0\n",
    "    \n",
    "    for n in range (0, iter_num):\n",
    "        iter = (x**n)/(factorial(n))\n",
    "        total += iter\n",
    "        \n",
    "    return 1/total\n",
    "    \n",
    "    "
   ]
  },
  {
   "cell_type": "code",
   "execution_count": null,
   "metadata": {},
   "outputs": [],
   "source": []
  },
  {
   "cell_type": "code",
   "execution_count": null,
   "metadata": {},
   "outputs": [],
   "source": [
    "# Set some x and N, as well as empty arrays.\n",
    "\n",
    "x = np.linspace(0, 10, 101)\n",
    "N = 100\n",
    "\n",
    "simple_array = np.zeros_like(x)\n",
    "recursive_array = np.zeros_like(x)\n",
    "inverse_array = np.zeros_like(x)\n",
    "numpy_array = np.zeros_like(x)\n",
    "\n",
    "\n",
    "# Solve e^-x for different values of x in different ways.\n",
    "\n",
    "for i in range(0, len(x)):\n",
    "    \n",
    "    simple_array[i] = simple_exp(x[i], N)\n",
    "    recursive_array[i] = recursive_exp(x[i], N)\n",
    "    inverse_array[i] = inverse_exp(x[i], N)\n",
    "    numpy_array[i] = np.exp(-x[i])\n"
   ]
  },
  {
   "cell_type": "code",
   "execution_count": null,
   "metadata": {},
   "outputs": [],
   "source": [
    "## Plotting Stuff\n",
    "\n",
    "fig = plt.figure(figsize=(15,10))\n",
    "fig.subplots_adjust(hspace=0.1, wspace=0.1)\n",
    "\n",
    "plot_title = 'Methods of Calculating Exponentials'\n",
    "\n",
    "# Blank plot, only for title.\n",
    "ax = fig.add_subplot(1, 1, 1)\n",
    "plt.title(plot_title,size=15)\n",
    "ax.axis('off')\n",
    "ax.set_xticks([])\n",
    "ax.set_yticks([])\n",
    "\n",
    "# Subplots\n",
    "# Plot each with full line and individual values calculated.\n",
    "ax1 = fig.add_subplot(2, 2, 1)\n",
    "\n",
    "ax1.plot(x, simple_array, c='green', alpha=1, label='Simple Exponential', linestyle=':')\n",
    "ax1.scatter(x, simple_array, c='green', alpha=0.5, s=5)\n",
    "ax1.legend()\n",
    "\n",
    "\n",
    "ax2 = fig.add_subplot(2, 2, 2)\n",
    "\n",
    "ax2.plot(x, recursive_array, c='red', alpha=1, label='Recursive Exponential', linestyle=':')\n",
    "ax2.scatter(x, recursive_array, c='red', alpha=0.5, s=5)\n",
    "ax2.legend()\n",
    "\n",
    "\n",
    "ax3 = fig.add_subplot(2, 2, 3)\n",
    "\n",
    "ax3.plot(x, inverse_array, c='blue', alpha=1, label='Inverse Exponential', linestyle=':')\n",
    "ax3.scatter(x, inverse_array, c='blue', alpha=0.5, s=5)\n",
    "ax3.legend()\n",
    "\n",
    "\n",
    "ax4 = fig.add_subplot(2, 2, 4)\n",
    "\n",
    "ax4.plot(x, numpy_array, c='black', alpha=1, label='Numpy Exponential', linestyle=':')\n",
    "ax4.scatter(x, numpy_array, c='black', alpha=0.5, s=5)\n",
    "ax4.legend()\n",
    "\n",
    "\n",
    "plt.show()\n",
    "\n",
    "\n",
    "\n"
   ]
  },
  {
   "cell_type": "code",
   "execution_count": null,
   "metadata": {},
   "outputs": [],
   "source": []
  },
  {
   "cell_type": "code",
   "execution_count": null,
   "metadata": {},
   "outputs": [],
   "source": [
    "## More plotting, this time all on one grid.\n",
    "\n",
    "fig2 = plt.figure(figsize=(15,10))\n",
    "fig2.subplots_adjust(hspace=0.1, wspace=0.1)\n",
    "\n",
    "plot_title = 'Methods of Calculating Exponentials (Overlays)'\n",
    "\n",
    "plt.title(plot_title,size=15)\n",
    "\n",
    "alpha = 0.25\n",
    "scatter_size = 15\n",
    "\n",
    "# Plot with title and each value calculated.\n",
    "plt.plot(x, simple_array, c='green', alpha=alpha, label='Simple Exponential', linestyle='-')\n",
    "plt.plot(x, recursive_array, c='red', alpha=alpha, label='Recursive Exponential', linestyle='--')\n",
    "plt.plot(x, inverse_array, c='blue', alpha=alpha, label='Inverse Exponential', linestyle='-.')\n",
    "plt.plot(x, numpy_array, c='black', alpha=alpha, label='Numpy Exponential', linestyle=':')\n",
    "\n",
    "plt.scatter(x, simple_array, c='green', alpha=alpha, s=scatter_size)\n",
    "plt.scatter(x, recursive_array, c='red', alpha=alpha, s=scatter_size)\n",
    "plt.scatter(x, inverse_array, c='blue', alpha=alpha, s=scatter_size)\n",
    "plt.scatter(x, numpy_array, c='black', alpha=alpha, s=scatter_size)\n",
    "\n",
    "plt.legend()\n",
    "\n",
    "\n",
    "plt.show()\n",
    "\n",
    "\n"
   ]
  },
  {
   "cell_type": "code",
   "execution_count": null,
   "metadata": {},
   "outputs": [],
   "source": [
    "### Part B - Explanation of N's\n",
    "\n",
    "# More N's will mean more terms in each summation, i.e.\n",
    "# a more precise answer.  Smaller N's (N ~< 25) have a \n",
    "# tendency to be extremely incorrect for large x's, \n",
    "# especially for the Simple and Recursive cases given."
   ]
  },
  {
   "cell_type": "code",
   "execution_count": null,
   "metadata": {},
   "outputs": [],
   "source": []
  },
  {
   "cell_type": "code",
   "execution_count": null,
   "metadata": {},
   "outputs": [],
   "source": []
  }
 ],
 "metadata": {
  "kernelspec": {
   "display_name": "Python 3",
   "language": "python",
   "name": "python3"
  },
  "language_info": {
   "codemirror_mode": {
    "name": "ipython",
    "version": 3
   },
   "file_extension": ".py",
   "mimetype": "text/x-python",
   "name": "python",
   "nbconvert_exporter": "python",
   "pygments_lexer": "ipython3",
   "version": "3.6.6"
  }
 },
 "nbformat": 4,
 "nbformat_minor": 2
}
