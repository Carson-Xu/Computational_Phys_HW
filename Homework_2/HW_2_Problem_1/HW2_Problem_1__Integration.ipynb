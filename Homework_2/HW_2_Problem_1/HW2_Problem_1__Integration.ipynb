{
 "cells": [
  {
   "cell_type": "code",
   "execution_count": null,
   "metadata": {},
   "outputs": [],
   "source": [
    "### COMPUTATIONAL PHYSICS\n",
    "### Homework 2, Problem 1: Integration\n",
    "\n",
    "# In physics calculations we often encounter functions which do not have a nice \n",
    "# closed form expression. One of these is the gamma function.\n",
    "\n",
    "# Γ(a) = int( x**(a-1) * e**(-x) ) from 0 to inf.\n",
    "\n",
    "# For this problem feel free to use scipy integrate where appropriate, \n",
    "# but you must explicitly choose your integrator and not let scipy choose for you.\n",
    "\n",
    "#a) Write a program to make a graph of the value of the integral given for the \n",
    "#.  bounds x=0-5 and for a = 2. On the same axis plot the result for ours five \n",
    "#.  integration methods (Trapezoid, Gaussian Quadrature, Simpson’s, Romberg and \n",
    "#.  Monte Carlo. On two other sets of axis show the value as a function of \n",
    "#.  N=8,16,32,63,128,256 for each method and plot the estimated error as a function of N.\n",
    "\n",
    "#b) Choose what you think is the best integrator for this method and the N required \n",
    "#.  for accuracy. Justify your choices and write a program to make a graph of the \n",
    "#.  value of the integral given from x=0-5 for a = 2,3, and 4 on the same axis.\n",
    "\n",
    "#c) In order to numerically integrate x = 0 − ∞ we need to change variables. Since \n",
    "#.  most of value of the integral is near the peak, what is the change of variables \n",
    "#.  which shifts the range of integration from 0 to 1 and places the peak near 1/2.\n",
    "\n",
    "#d) We next need to transform the integral to make it a bit easier to evaluate. This \n",
    "#.  can be done by writing xa−1 as e(a−1)lnx. Using this new transformation calculate \n",
    "#.  to write a user defined function Γ(a) which will calculate Γ for an arbitrary a value. \n",
    "#.  Test your function with the known value of Γ(1.5) = 0.5􏰁(π).\n",
    "\n",
    "#e) Plot the Gamma function for a = 1-10.\n",
    "\n",
    "#f) Show that for integer values of a the Gamma function is equal to the factorial of a. \n",
    "#.  (HINT: Write a user defined function to calculate the factorial of an integer).\n",
    "\n",
    "### Name:  Carson Huey-You"
   ]
  },
  {
   "cell_type": "code",
   "execution_count": null,
   "metadata": {},
   "outputs": [],
   "source": [
    "# Import Functions\n",
    "\n",
    "import math as math\n",
    "import numpy as np\n",
    "from matplotlib import pyplot as plt\n",
    "import scipy.integrate as scipy_int"
   ]
  },
  {
   "cell_type": "code",
   "execution_count": null,
   "metadata": {},
   "outputs": [],
   "source": [
    "# Define function as the integrand of Γ(a)\n",
    "\n",
    "def func(x, a):\n",
    "    y = x**(a-1) * np.e**(-x)\n",
    "    return y\n",
    "\n",
    "func_vec = np.vectorize(func, excluded='a')\n",
    "func_vec_a = np.vectorize(func, excluded='x')"
   ]
  },
  {
   "cell_type": "code",
   "execution_count": null,
   "metadata": {},
   "outputs": [],
   "source": [
    "# Define function for Monte-Carlo integration\n",
    "\n",
    "def montecarlo_int(xmin, xmax, a, N):\n",
    "    \n",
    "    N_mc = N*10000\n",
    "    x = np.linspace(xmin, xmax, N)\n",
    "    \n",
    "    ymax = np.amax(func(x, a)) + 0.25\n",
    "    ymin = 0\n",
    "    \n",
    "    x_mc = np.random.random(N_mc)*(xmax - xmin) + xmin\n",
    "    y_mc = np.random.random(N_mc)*(ymax - ymin) + ymin\n",
    "    \n",
    "    mask = ( y_mc <= func_vec(x_mc, a) )\n",
    "    count = len( y_mc[mask] )\n",
    "        \n",
    "    #A is the area of the 'box'\n",
    "    A = (xmax - xmin)*(ymax - ymin)\n",
    "    \n",
    "    I = count*A/N_mc\n",
    "    return I\n"
   ]
  },
  {
   "cell_type": "code",
   "execution_count": null,
   "metadata": {},
   "outputs": [],
   "source": [
    "# Define function to integrate the gamma function multiple ways:\n",
    "\n",
    "def integrate(xmin, xmax, a, N, show):\n",
    "    \n",
    "    x = np.linspace(xmin, xmax, N)\n",
    "    \n",
    "    int_trapz = scipy_int.trapz(func(x, a), x=x)\n",
    "    int_gaussquad, err = scipy_int.quadrature(func_vec, xmin, xmax, args=(a))\n",
    "    int_simpsons = scipy_int.simps(func(x, a), x=x)\n",
    "    int_romberg = scipy_int.romberg(func_vec, xmin, xmax, [a])\n",
    "    int_montecarlo = montecarlo_int(xmin, xmax, a, N)\n",
    "    \n",
    "    if show == True:\n",
    "        state = f\"For a = {a}:\\n\"\n",
    "        trapz_state = f\"Trapezoid Integration found {int_trapz} with step size of {N}.\\n\"\n",
    "        gaussquad_state = f\"Gaussian Quadrature Integration found {int_gaussquad}.\\n\"\n",
    "        simpsons_state = f\"Simpsons Integration found {int_simpsons} with step size of {N}.\\n\"\n",
    "        romberg_state = f\"Romberg Integration found {int_romberg}.\\n\"\n",
    "        montecarlo_state = f\"Monte Carlo Integration found {int_montecarlo} with {N*10000} points.\\n\"\n",
    "        \n",
    "        print(state + trapz_state + gaussquad_state + simpsons_state + romberg_state + montecarlo_state)\n",
    "    \n",
    "    return [int_trapz, int_gaussquad, int_simpsons, int_romberg, int_montecarlo, err]\n"
   ]
  },
  {
   "cell_type": "code",
   "execution_count": null,
   "metadata": {},
   "outputs": [],
   "source": [
    "# Define change-of-vars function:\n",
    "\n",
    "def cov_func(u, a):\n",
    "    (-1)**a * ( np.ln(u) )**(a-1)\n",
    "    return y\n",
    "\n",
    "func_vec = np.vectorize(func, excluded='a')"
   ]
  },
  {
   "cell_type": "code",
   "execution_count": null,
   "metadata": {},
   "outputs": [],
   "source": []
  },
  {
   "cell_type": "code",
   "execution_count": null,
   "metadata": {},
   "outputs": [],
   "source": [
    "xmin = 0\n",
    "xmax = 5\n",
    "\n",
    "N = 1001\n",
    "\n",
    "x = np.linspace(xmin, xmax, N)"
   ]
  },
  {
   "cell_type": "code",
   "execution_count": null,
   "metadata": {},
   "outputs": [],
   "source": [
    "a = 2\n",
    "plt.plot(x, func_vec(x, a))"
   ]
  },
  {
   "cell_type": "code",
   "execution_count": null,
   "metadata": {},
   "outputs": [],
   "source": [
    "#a1) Test Integrations for multiple types.\n",
    "\n",
    "print(integrate(0, 5, 2, 100, True))"
   ]
  },
  {
   "cell_type": "code",
   "execution_count": null,
   "metadata": {},
   "outputs": [],
   "source": [
    "#a2) Plot different values of N.\n",
    "\n",
    "N = [8, 16, 32, 64, 128, 256]\n",
    "\n",
    "trapz_arr = np.zeros_like(N, dtype='float64')\n",
    "gaussquad_arr = np.zeros_like(N, dtype='float64')\n",
    "simpsons_arr = np.zeros_like(N, dtype='float64')\n",
    "romberg_arr = np.zeros_like(N, dtype='float64')\n",
    "montecarlo_arr = np.zeros_like(N, dtype='float64')\n",
    "gaussquad_err_arr = np.zeros_like(N, dtype='float64')\n",
    "\n",
    "for k in range(0, len(N)):\n",
    "    \n",
    "    int_result_k = integrate(0, 5, 2, N[k], False)\n",
    "    \n",
    "    trapz_arr[k] = int_result_k[0]\n",
    "    gaussquad_arr[k] = int_result_k[1]\n",
    "    simpsons_arr[k] = int_result_k[2]\n",
    "    romberg_arr[k] = int_result_k[3]\n",
    "    montecarlo_arr[k] = int_result_k[4]\n",
    "    gaussquad_err_arr[k] = int_result_k[5]\n",
    "    \n",
    "    print(f\"Completed integration for N = {N[k]}.\")\n",
    "    "
   ]
  },
  {
   "cell_type": "code",
   "execution_count": null,
   "metadata": {},
   "outputs": [],
   "source": [
    "#a3) Plot Figure... Note GaussQuad and Romberg don't depend on N.\n",
    "\n",
    "fig = plt.figure(figsize=(20, 10))\n",
    "fig.subplots_adjust(hspace=0.0, wspace=0.0)\n",
    "\n",
    "plt.title('Integration Types for the Gamma Function\\n', size=15)\n",
    "\n",
    "ax = fig.add_subplot(1, 1, 1)\n",
    "ax.set_xticks([])\n",
    "ax.set_yticks([])\n",
    "\n",
    "ax1 = fig.add_subplot(1, 2, 1)\n",
    "ax1.plot(N, trapz_arr, label = f\"Trapezoidal\")\n",
    "#ax1.plot(N, gaussquad_arr, label = f\"GaussQuad\")\n",
    "ax1.plot(N, simpsons_arr, label = f\"Simpsons\")\n",
    "#ax1.plot(N, romberg_arr, label = f\"Romberg\")\n",
    "ax1.plot(N, montecarlo_arr, label = f\"Monte Carlo\")\n",
    "\n",
    "ax2 = fig.add_subplot(1, 2, 2)\n",
    "ax2.plot(N, gaussquad_err_arr, label = f\"Error from GaussQuad\")\n",
    "\n",
    "ax1.legend()\n",
    "ax2.legend()\n"
   ]
  },
  {
   "cell_type": "code",
   "execution_count": null,
   "metadata": {},
   "outputs": [],
   "source": [
    "#b) Choosing Gaussian Quadrature, as it converges *very* quickly and returns error.\n",
    "\n",
    "x = np.linspace(0, 5, 1000)\n",
    "\n",
    "array_a2 = func(x, 2)\n",
    "quad_a2, err_a2 = scipy_int.quadrature(func_vec, xmin, xmax, args=(2))\n",
    "\n",
    "array_a3 = func(x, 3)\n",
    "quad_a3, err_a3 = scipy_int.quadrature(func_vec, xmin, xmax, args=(3))\n",
    "\n",
    "array_a4 = func(x, 4)\n",
    "quad_a4, err_a4 = scipy_int.quadrature(func_vec, xmin, xmax, args=(4))\n",
    "\n",
    "\n",
    "fig = plt.figure(figsize=(15, 10))\n",
    "fig.subplots_adjust(hspace=0.0, wspace=0.0)\n",
    "\n",
    "plt.title('Values of the Gamma Function', size=13)\n",
    "\n",
    "ax = fig.add_subplot(1, 1, 1)\n",
    "ax.set_xticks([])\n",
    "ax.set_yticks([])\n",
    "\n",
    "ax1 = fig.add_subplot(3, 1, 1)\n",
    "ax1.plot(x, array_a2, label = f\"Integral for a=2: {quad_a2} $\\pm$ {err_a2}\")\n",
    "\n",
    "ax2 = fig.add_subplot(3, 1, 2)\n",
    "ax2.plot(x, array_a3, label = f\"Integral for a=3: {quad_a3} $\\pm$ {err_a3}\")\n",
    "\n",
    "ax3 = fig.add_subplot(3, 1, 3)\n",
    "ax3.plot(x, array_a4, label = f\"Integral for a=4: {quad_a4} $\\pm$ {err_a4}\")\n",
    "\n",
    "\n",
    "ax1.legend()\n",
    "ax2.legend()\n",
    "ax3.legend(loc = 'lower right')"
   ]
  },
  {
   "cell_type": "code",
   "execution_count": null,
   "metadata": {},
   "outputs": [],
   "source": []
  },
  {
   "cell_type": "code",
   "execution_count": null,
   "metadata": {},
   "outputs": [],
   "source": [
    "#c) Use x = -ln(u), or u = e^(-x)\n",
    "\n",
    "#  At x = 0  ->  u = e^(-0) = 1\n",
    "#  At x = ∞  ->  u = e^(-∞) = 0\n",
    "\n",
    "#  du/dx = -e^(-x), noting that   - du = dx * e^(-x)\n",
    "\n",
    "#  The integral is then simply:\n",
    "\n",
    "#  (-1)^a * [ln(u)]^(a-1) du, evaluated from u=0 to u=1\n"
   ]
  },
  {
   "cell_type": "code",
   "execution_count": null,
   "metadata": {},
   "outputs": [],
   "source": []
  },
  {
   "cell_type": "code",
   "execution_count": null,
   "metadata": {},
   "outputs": [],
   "source": []
  },
  {
   "cell_type": "code",
   "execution_count": null,
   "metadata": {},
   "outputs": [],
   "source": []
  },
  {
   "cell_type": "code",
   "execution_count": null,
   "metadata": {},
   "outputs": [],
   "source": []
  },
  {
   "cell_type": "code",
   "execution_count": null,
   "metadata": {},
   "outputs": [],
   "source": []
  }
 ],
 "metadata": {
  "kernelspec": {
   "display_name": "Python 3",
   "language": "python",
   "name": "python3"
  },
  "language_info": {
   "codemirror_mode": {
    "name": "ipython",
    "version": 3
   },
   "file_extension": ".py",
   "mimetype": "text/x-python",
   "name": "python",
   "nbconvert_exporter": "python",
   "pygments_lexer": "ipython3",
   "version": "3.6.6"
  }
 },
 "nbformat": 4,
 "nbformat_minor": 2
}
