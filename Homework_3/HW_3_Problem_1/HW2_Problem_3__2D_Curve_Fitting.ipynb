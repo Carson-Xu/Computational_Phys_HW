{
 "cells": [
  {
   "cell_type": "code",
   "execution_count": null,
   "metadata": {},
   "outputs": [],
   "source": [
    "### COMPUTATIONAL PHYSICS\n",
    "### Homework 3, Problem 1: 2D Curve Fitting\n",
    "\n",
    "# In class on 5 March 2019, we used Monte Carlo to fit a function to data with error bars in \n",
    "# two dimensions assuming a uniform random distribution of errors. Each of your was assigned a \n",
    "# different statistical error distribution (Sachi - Binominal, Carson - Possoin, Baylor - Gamma, \n",
    "# Christine - Log Normal, Hope - Gaussian, Sarah - Rayleigh). Your assignment is to create the\n",
    "# following plots and answer the equations below.\n",
    "\n",
    "# One one set of axis plot the following: \n",
    "# (1) your noisy data with the error bars in x and y, \n",
    "# (2) the function you inputting to create the data, \n",
    "# (3) the best fit curve from your Monte Carlo fitting, \n",
    "# (4) a shaded region showing the area between curves which are one standard deviation above \n",
    "# and below the best fit line. Make this plot for NMonteCarlo = 10,100,1000.\n",
    "\n",
    "# How do your results for your given distribution compare to the ones you found in class for a \n",
    "# uniform distribution of errors?\n",
    "\n",
    "# Comment on how your results might change with the intrinsic scatter and size of the error bars\n",
    "# in your data. Did you need to populate the error bars to one standard deviation, two?\n",
    "\n",
    "### Name:  Carson Huey-You"
   ]
  },
  {
   "cell_type": "code",
   "execution_count": null,
   "metadata": {},
   "outputs": [],
   "source": [
    "### 1. IMPORT PACKAGES\n",
    "\n",
    "import math as math\n",
    "import numpy as np\n",
    "from matplotlib import pyplot as plt\n",
    "from scipy.optimize import curve_fit"
   ]
  },
  {
   "cell_type": "code",
   "execution_count": null,
   "metadata": {},
   "outputs": [],
   "source": [
    "### 2. DEFINE FUNCTIONS\n",
    "\n",
    "# Define a Generating Function, which we will use to create the noisy data.\n",
    "\n",
    "def guess_func(x, a, b, c):\n",
    "    return a*np.sin(b*x + c)\n",
    "\n"
   ]
  },
  {
   "cell_type": "code",
   "execution_count": null,
   "metadata": {},
   "outputs": [],
   "source": [
    "# Iterate through a monte-carlo fitting scheme N_mc times, \n",
    "# and return value_count values.\n",
    "\n",
    "def montecarlo_fit(guess_func, x_data, y_data, x_err, y_err, N_mc, value_count):\n",
    "    \n",
    "    #Get number of data points to fit to.\n",
    "    N = len(x_data)\n",
    "    \n",
    "    #Define array to save optimized values.\n",
    "    saved_vals = np.zeros(shape=(value_count, N_mc))\n",
    "    \n",
    "    #Populate 'error boxes'.\n",
    "    for i in range(0, N_mc):\n",
    "        \n",
    "        x_mc = x_data + (np.random.random(N) - 0.5)*2.0*x_err\n",
    "        y_mc = y_data + (np.random.random(N) - 0.5)*2.0*y_err\n",
    "        \n",
    "        popt, pcov = curve_fit(guess_func, x_mc, y_mc)\n",
    "        \n",
    "        #Save each popt in an array.\n",
    "        for j in range(0, value_count):\n",
    "            \n",
    "            saved_vals[j][i] = popt[j]\n",
    "            \n",
    "    #Derive median & stdev values for a, b, and c.\n",
    "    guess_a = np.median(saved_vals[0])\n",
    "    guess_b = np.median(saved_vals[1])\n",
    "    guess_c = np.median(saved_vals[2])\n",
    "    \n",
    "    stdev_a = np.std(saved_vals[0])\n",
    "    stdev_b = np.std(saved_vals[1])\n",
    "    stdev_c = np.std(saved_vals[2])\n",
    "    \n",
    "    return np.array([[guess_a, guess_b, guess_c], \n",
    "                     [stdev_a, stdev_b, stdev_c]])\n",
    "\n"
   ]
  },
  {
   "cell_type": "code",
   "execution_count": null,
   "metadata": {},
   "outputs": [],
   "source": [
    "# Add multiple elements to graphs, specifically:\n",
    "# - Scattered Data with Error-Bars\n",
    "# - Best Fit from Monte-Carlo\n",
    "# - Filled Area ±K Standard Deviations from the Best Fit\n",
    "\n",
    "def plot_stuff(guess_func, x_data, y_data, x_err, y_err, N_mc, value_count):\n",
    "    \n",
    "    #Scattered Data with Error-Bars.\n",
    "    plt.errorbar(x_data, y_data, xerr=x_err, yerr=y_err, fmt='o', markersize=2, alpha=0.5, label=\"Noisy Data to Fit\")\n",
    "    \n",
    "    #Best Fit from Monte-Carlo.\n",
    "    value_array = montecarlo_fit(guess_func, x_data, y_data, x_err, y_err, N_mc, value_count)\n",
    "    \n",
    "    guess_a, guess_b, guess_c = value_array[0][0], value_array[0][1], value_array[0][2]\n",
    "    stdev_a, stdev_b, stdev_c = value_array[1][0], value_array[1][1], value_array[1][2]\n",
    "    \n",
    "    fit_label = f\"\\nBest Fit from Monte-Carlo:\\n\"\n",
    "    fit_a = f\"a={guess_a}, \" + \"$\\sigma_{a}=$\" + f\"{stdev_a}\\n\" \n",
    "    fit_b = f\"b={guess_b}, \" + \"$\\sigma_{b}=$\" + f\"{stdev_b}\\n\"\n",
    "    fit_c = f\"c={guess_c}, \" + \"$\\sigma_{c}=$\" + f\"{stdev_c}\"\n",
    "    \n",
    "    plt.plot(x_data, guess_func(x_data, guess_a, guess_b, guess_c), color='yellow', label = fit_label + fit_a + fit_b + fit_c)\n",
    "    \n",
    "    #Filled Area ±K Standard Deviations from the Best Fit.\n",
    "    #Change how many standard deviations to fill with stretch_fill.\n",
    "    stretch_fill = 1\n",
    "    \n",
    "    top_fill = guess_func(x_data, guess_a + stretch_fill*stdev_a, guess_b + stretch_fill*stdev_b, guess_c + stretch_fill*stdev_c)\n",
    "    bot_fill = guess_func(x_data, guess_a - stretch_fill*stdev_a, guess_b - stretch_fill*stdev_b, guess_c - stretch_fill*stdev_c)\n",
    "    \n",
    "    plt.fill_between(x_data, top_fill, bot_fill, color='green', alpha=0.75, label=\"One Standard Deviation ($\\pm$)\")\n",
    "\n"
   ]
  },
  {
   "cell_type": "code",
   "execution_count": null,
   "metadata": {},
   "outputs": [],
   "source": []
  },
  {
   "cell_type": "code",
   "execution_count": null,
   "metadata": {},
   "outputs": [],
   "source": [
    "### 3. GENERATE DATA\n",
    "\n",
    "N = 501\n",
    "\n",
    "#Assume:\n",
    "a, b, c = 2, 1, 3 #Y = 2*sin(x + 3)\n",
    "\n",
    "#Number of values to find.\n",
    "value_count = 3\n",
    "\n",
    "x = np.linspace(0, 10, N)\n",
    "y = guess_func(x, a, b, c) \n",
    "\n",
    "#Get errorbars for x and y.\n",
    "error_x = 0.25\n",
    "error_y = 0.4\n",
    "x_err = error_x * np.random.poisson(lam=1,size=N)\n",
    "y_err = error_y * np.random.poisson(lam=1,size=N)\n",
    "\n",
    "#Scatter values with noise parameter.\n",
    "noise=3\n",
    "y_noise = y + 2*noise*(np.random.random(N) - 0.5)\n"
   ]
  },
  {
   "cell_type": "code",
   "execution_count": null,
   "metadata": {},
   "outputs": [],
   "source": [
    "#Test plot, to show generating function, noise, and error.\n",
    "\n",
    "fig = plt.figure(figsize=(10,10))\n",
    "\n",
    "plt.plot(x, y, color='red', linestyle=':')\n",
    "\n",
    "plt.scatter(x, y_noise, s=10, color='green', marker='s')\n",
    "plt.errorbar(x, y_noise, xerr=x_err, yerr=y_err, fmt='o', markersize=1, alpha=0.5)\n"
   ]
  },
  {
   "cell_type": "code",
   "execution_count": null,
   "metadata": {},
   "outputs": [],
   "source": []
  },
  {
   "cell_type": "code",
   "execution_count": null,
   "metadata": {},
   "outputs": [],
   "source": [
    "### 4. FIT & PLOT DATA: N_mc=10\n",
    "\n",
    "N_mc = 10\n",
    "\n",
    "fig = plt.figure(figsize=(15,10))\n",
    "\n",
    "plot_title = \"Monte Carlo Data Fit with $N_{mc}$ = \" + f\"{N_mc} | \" + f\"F(x)=a*sin(bx+c)\"\n",
    "plt.title(plot_title, size=14)\n",
    "\n",
    "plt.plot(x, y, color='red', linestyle=':', label=f\"Generating Function: a={a}, b={b}, c={c}.\")\n",
    "\n",
    "plot_stuff(guess_func, x, y_noise, x_err, y_err, N_mc, 3)\n",
    "\n",
    "plt.legend()"
   ]
  },
  {
   "cell_type": "code",
   "execution_count": null,
   "metadata": {},
   "outputs": [],
   "source": [
    "### 4. FIT & PLOT DATA: N_mc=100\n",
    "\n",
    "N_mc = 100\n",
    "\n",
    "fig = plt.figure(figsize=(15,10))\n",
    "\n",
    "plot_title = \"Monte Carlo Data Fit with $N_{mc}$ = \" + f\"{N_mc} | \" + f\"F(x)=a*sin(bx+c)\"\n",
    "plt.title(plot_title, size=14)\n",
    "\n",
    "plt.plot(x, y, color='red', linestyle=':', label=f\"Generating Function: a={a}, b={b}, c={c}\")\n",
    "\n",
    "plot_stuff(guess_func, x, y_noise, x_err, y_err, N_mc, 3)\n",
    "\n",
    "plt.legend()"
   ]
  },
  {
   "cell_type": "code",
   "execution_count": null,
   "metadata": {},
   "outputs": [],
   "source": [
    "### 4. FIT & PLOT DATA: N_mc=1000\n",
    "\n",
    "N_mc = 1000\n",
    "\n",
    "fig = plt.figure(figsize=(15,10))\n",
    "\n",
    "plot_title = \"Monte Carlo Data Fit with $N_{mc}$ = \" + f\"{N_mc} | \" + f\"F(x)=a*sin(bx+c)\"\n",
    "plt.title(plot_title, size=14)\n",
    "\n",
    "plt.plot(x, y, color='red', linestyle=':', label=f\"Generating Function: a={a}, b={b}, c={c}\")\n",
    "\n",
    "plot_stuff(guess_func, x, y_noise, x_err, y_err, N_mc, 3)\n",
    "\n",
    "plt.legend()"
   ]
  },
  {
   "cell_type": "code",
   "execution_count": null,
   "metadata": {},
   "outputs": [],
   "source": []
  },
  {
   "cell_type": "code",
   "execution_count": null,
   "metadata": {},
   "outputs": [],
   "source": []
  },
  {
   "cell_type": "code",
   "execution_count": null,
   "metadata": {},
   "outputs": [],
   "source": []
  }
 ],
 "metadata": {
  "kernelspec": {
   "display_name": "Python 3",
   "language": "python",
   "name": "python3"
  },
  "language_info": {
   "codemirror_mode": {
    "name": "ipython",
    "version": 3
   },
   "file_extension": ".py",
   "mimetype": "text/x-python",
   "name": "python",
   "nbconvert_exporter": "python",
   "pygments_lexer": "ipython3",
   "version": "3.6.6"
  }
 },
 "nbformat": 4,
 "nbformat_minor": 2
}
